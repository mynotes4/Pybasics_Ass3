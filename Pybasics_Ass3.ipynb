{
 "cells": [
  {
   "cell_type": "markdown",
   "id": "b912b7ad",
   "metadata": {},
   "source": [
    "1. Why are functions advantageous to have in your programs?\n",
    "\n",
    "Ans - This help to reduce the duplicate parts of the code i.e we can reuse a peice of code again and again in a program. This makes the program short , easier to read , understand and update if required."
   ]
  },
  {
   "cell_type": "markdown",
   "id": "338794f3",
   "metadata": {},
   "source": [
    "2. When does the code in a function run: when it's specified or when it's called?\n",
    "\n",
    "Ans - when it's called"
   ]
  },
  {
   "cell_type": "markdown",
   "id": "b274707c",
   "metadata": {},
   "source": [
    "3. What statement creates a function?\n",
    "\n",
    "Ans - def function_name():\n",
    "          function body"
   ]
  },
  {
   "cell_type": "markdown",
   "id": "0167ef18",
   "metadata": {},
   "source": [
    "4. What is the difference between a function and a function call?\n",
    "\n",
    "Ans - Function is a block or a piece of a code that performs a particular operation and returns a reult. It may or may not take parameters.\n",
    "\n",
    "Function call is a piece or block of code that passes control to a function"
   ]
  },
  {
   "cell_type": "markdown",
   "id": "2f0396f3",
   "metadata": {},
   "source": [
    "5. How many global scopes are there in a Python program? How many local scopes?\n",
    "\n",
    "Ans - Their is only 1 global scope. While the scope of a variable defined in a function lies , whithin that function. Hence , we can't say the no of local scope in python. "
   ]
  },
  {
   "cell_type": "markdown",
   "id": "c343925d",
   "metadata": {},
   "source": [
    "6. What happens to variables in a local scope when the function call returns?\n",
    "\n",
    "Ans - Variables in local scope becomes undefinrd when finction call returns."
   ]
  },
  {
   "cell_type": "markdown",
   "id": "ddd6b493",
   "metadata": {},
   "source": [
    "7. What is the concept of a return value? Is it possible to have a return value in an expression?\n",
    "\n",
    "Ans - Return value is a value that returns the value to the calling script ot the main function when the function completes its task. It is not possible to have return value in an expression."
   ]
  },
  {
   "cell_type": "markdown",
   "id": "97b0059a",
   "metadata": {},
   "source": [
    "8. If a function does not have a return statement, what is the return value of a call to that function?\n",
    "\n",
    "Ans - It has nontype"
   ]
  },
  {
   "cell_type": "markdown",
   "id": "0be06717",
   "metadata": {},
   "source": [
    "9. How do you make a function variable refer to the global variable?\n",
    "\n",
    "Ans - global variable_name"
   ]
  },
  {
   "cell_type": "markdown",
   "id": "684da11f",
   "metadata": {},
   "source": [
    "10. What is the data type of None?\n",
    "\n",
    "Ans - NoneType"
   ]
  },
  {
   "cell_type": "markdown",
   "id": "ea41047f",
   "metadata": {},
   "source": [
    "11. What does the sentence import areallyourpetsnamederic do?\n",
    "\n",
    "Ans - It imports areallyourpetsnamederic libarary"
   ]
  },
  {
   "cell_type": "markdown",
   "id": "30f95f27",
   "metadata": {},
   "source": [
    "12. If you had a bacon() feature in a spam module, what would you call it after importing spam?\n",
    "\n",
    "Ans - spam.bacon()"
   ]
  },
  {
   "cell_type": "markdown",
   "id": "78941cd4",
   "metadata": {},
   "source": [
    "13. What can you do to save a programme from crashing if it encounters an error?\n",
    "\n",
    "Ans -  We can use try and except from error handling to do this."
   ]
  },
  {
   "cell_type": "markdown",
   "id": "868ac8ed",
   "metadata": {},
   "source": [
    "14. What is the purpose of the try clause? What is the purpose of the except clause?\n",
    "\n",
    "Ans - Try Clause - To test errors in block of code Try clause is used.\n",
    "\n",
    "Except clause - Except clause enables ud to handle the error with user 0 defined response"
   ]
  },
  {
   "cell_type": "code",
   "execution_count": null,
   "id": "082ec9a1",
   "metadata": {},
   "outputs": [],
   "source": []
  }
 ],
 "metadata": {
  "kernelspec": {
   "display_name": "Python 3 (ipykernel)",
   "language": "python",
   "name": "python3"
  },
  "language_info": {
   "codemirror_mode": {
    "name": "ipython",
    "version": 3
   },
   "file_extension": ".py",
   "mimetype": "text/x-python",
   "name": "python",
   "nbconvert_exporter": "python",
   "pygments_lexer": "ipython3",
   "version": "3.9.12"
  }
 },
 "nbformat": 4,
 "nbformat_minor": 5
}
